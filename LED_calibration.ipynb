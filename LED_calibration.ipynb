{
 "cells": [
  {
   "cell_type": "code",
   "execution_count": 24,
   "metadata": {},
   "outputs": [],
   "source": [
    "import sys\n",
    "sys.path.append(\"/scratch/elena/WCTE_DATA_ANALYSIS/WCTE_MC-Data_Validation_with_GAIN_Calibration\")\n",
    "import gain_utils as gu\n",
    "import numpy as np"
   ]
  },
  {
   "cell_type": "code",
   "execution_count": 25,
   "metadata": {},
   "outputs": [
    {
     "name": "stdout",
     "output_type": "stream",
     "text": [
      "   flags  chan  num_samples  num_bytes  wave_no  hit_no  lsb_coarse  \\\n",
      "0      8     0           32         15        1       1   659046640   \n",
      "1      8     1           32          6        1       2   659046640   \n",
      "2      8     2           32         12        1       3   659046640   \n",
      "3      8     3           32          8        1       4   659046640   \n",
      "4      8     4           32          7        1       5   659046640   \n",
      "\n",
      "   msb_coarse      coarse  card_id  pkt_num  max_sample  max_sample_pos  \\\n",
      "0      141127  9248981232       80    48795          40               7   \n",
      "1      141127  9248981232       80    48795           0              22   \n",
      "2      141127  9248981232       80    48795          11               6   \n",
      "3      141127  9248981232       80    48795           1               2   \n",
      "4      141127  9248981232       80    48795           1               5   \n",
      "\n",
      "   sample_integral8                                            samples  \\\n",
      "0               101  [-1, 0, 0, 0, 2, 13, 37, 40, 9, -11, -8, -6, -...   \n",
      "1                -6  [-1, -1, -1, -1, -1, -1, -1, -1, -1, -1, -1, -...   \n",
      "2                28  [1, 1, 0, 0, 1, 4, 11, 10, 1, -2, -1, -1, -1, ...   \n",
      "3                 1  [0, 0, 1, 0, 0, 0, 1, 0, 0, 0, 1, 0, 0, 0, 0, ...   \n",
      "4                 1  [0, 0, 0, 0, 0, 1, 0, 0, 1, 1, 1, 1, 0, 0, 1, ...   \n",
      "\n",
      "   card_mismatch  \n",
      "0          False  \n",
      "1          False  \n",
      "2          False  \n",
      "3          False  \n",
      "4          False  \n",
      "   led_no  gain  dac  seq_no  seq_type  lsb_coarse  msb_coarse      coarse  \\\n",
      "0       1     1  750    8873         0   660296486      141146  9250231078   \n",
      "1       1     1  750    8874         0   660358986      141146  9250293578   \n",
      "2       1     1  750    8875         0   660421486      141146  9250356078   \n",
      "3       1     1  750    8876         0   660483986      141146  9250418578   \n",
      "4       1     1  750    8877         0   660546486      141146  9250481078   \n",
      "\n",
      "   card_id  pkt_num  card_mismatch  \n",
      "0       77    48513          False  \n",
      "1       77    48513          False  \n",
      "2       77    48513          False  \n",
      "3       77    48513          False  \n",
      "4       77    48513          False  \n"
     ]
    }
   ],
   "source": [
    "folder = \"/dipc/elena/WCTE_2025_commissioning/parquet_files\"\n",
    "run_number = \"led_scan_calibration_20250404145411_hv_0_20250404145412_7\"\n",
    "\n",
    "df_wf = gu.load_waveforms(folder, run_number)\n",
    "df_led = gu.load_led(folder, run_number)\n",
    "\n",
    "print(df_wf.head())\n",
    "print(df_led.head())"
   ]
  }
 ],
 "metadata": {
  "kernelspec": {
   "display_name": "Python (WCTE)",
   "language": "python",
   "name": "wcte_env"
  },
  "language_info": {
   "codemirror_mode": {
    "name": "ipython",
    "version": 3
   },
   "file_extension": ".py",
   "mimetype": "text/x-python",
   "name": "python",
   "nbconvert_exporter": "python",
   "pygments_lexer": "ipython3",
   "version": "3.7.4"
  }
 },
 "nbformat": 4,
 "nbformat_minor": 2
}
